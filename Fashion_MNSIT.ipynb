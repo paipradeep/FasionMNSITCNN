{
 "cells": [
  {
   "cell_type": "code",
   "execution_count": 2,
   "metadata": {},
   "outputs": [
    {
     "name": "stderr",
     "output_type": "stream",
     "text": [
      "Using TensorFlow backend.\n"
     ]
    }
   ],
   "source": [
    "from keras.datasets import fashion_mnist\n",
    "(train_X,train_Y), (test_X,test_Y) = fashion_mnist.load_data()\n"
   ]
  },
  {
   "cell_type": "code",
   "execution_count": 3,
   "metadata": {},
   "outputs": [],
   "source": [
    "import numpy as np\n",
    "from keras.utils import to_categorical\n",
    "import matplotlib.pyplot as plt"
   ]
  },
  {
   "cell_type": "code",
   "execution_count": 4,
   "metadata": {},
   "outputs": [
    {
     "name": "stdout",
     "output_type": "stream",
     "text": [
      "Training data shape :  (60000, 28, 28) (60000,)\n",
      "Testing data shape :  (10000, 28, 28) (10000,)\n"
     ]
    }
   ],
   "source": [
    "print('Training data shape : ',train_X.shape,train_Y.shape)\n",
    "print('Testing data shape : ',test_X.shape,test_Y.shape)"
   ]
  },
  {
   "cell_type": "code",
   "execution_count": 5,
   "metadata": {},
   "outputs": [
    {
     "name": "stdout",
     "output_type": "stream",
     "text": [
      "Total number of classes :  10\n",
      "Classes :  [0 1 2 3 4 5 6 7 8 9]\n"
     ]
    }
   ],
   "source": [
    "classes = np.unique(train_Y)\n",
    "no_of_classes = len(classes)\n",
    "print('Total number of classes : ',no_of_classes)\n",
    "print(\"Classes : \", classes)"
   ]
  },
  {
   "cell_type": "code",
   "execution_count": 6,
   "metadata": {},
   "outputs": [
    {
     "name": "stdout",
     "output_type": "stream",
     "text": [
      "It belongs to category 0\n"
     ]
    },
    {
     "data": {
      "image/png": "[encoded data removed]",
      "text/plain": [
       "<Figure size 360x360 with 1 Axes>"
      ]
     },
     "metadata": {
      "needs_background": "light"
     },
     "output_type": "display_data"
    }
   ],
   "source": [
    "#sample image in the dataset\n",
    "plt.figure(figsize=[5,5])\n",
    "plt.subplot(121)\n",
    "plt.imshow(train_X[10,:,:],cmap='gray')\n",
    "print('It belongs to category', train_Y[10])"
   ]
  },
  {
   "cell_type": "code",
   "execution_count": 7,
   "metadata": {},
   "outputs": [],
   "source": [
    "train_X = train_X.reshape(-1,28,28,1)\n",
    "test_X = test_X.reshape(-1,28,28,1)"
   ]
  },
  {
   "cell_type": "code",
   "execution_count": 8,
   "metadata": {},
   "outputs": [
    {
     "name": "stdout",
     "output_type": "stream",
     "text": [
      "(60000, 28, 28, 1)\n",
      "(10000, 28, 28, 1)\n"
     ]
    }
   ],
   "source": [
    "print(train_X.shape)\n",
    "print(test_X.shape)"
   ]
  },
  {
   "cell_type": "code",
   "execution_count": 9,
   "metadata": {},
   "outputs": [],
   "source": [
    "#convert to float and normalize\n",
    "train_X = train_X.astype('float32')\n",
    "test_X = test_X.astype('float32')\n",
    "train_X = train_X/255\n",
    "test_X = test_X/255"
   ]
  },
  {
   "cell_type": "code",
   "execution_count": 10,
   "metadata": {},
   "outputs": [
    {
     "name": "stdout",
     "output_type": "stream",
     "text": [
      "Normal label :  9\n",
      "One hot encoded label :  [0. 0. 0. 0. 0. 0. 0. 0. 0. 1.]\n"
     ]
    }
   ],
   "source": [
    "# one hot enoding\n",
    "train_Y_onehot = to_categorical(train_Y)\n",
    "test_Y_onehot = to_categorical(test_Y)\n",
    "\n",
    "print('Normal label : ',train_Y[0])\n",
    "print('One hot encoded label : ',train_Y_onehot[0])"
   ]
  },
  {
   "cell_type": "code",
   "execution_count": 11,
   "metadata": {},
   "outputs": [],
   "source": [
    "from sklearn.model_selection import train_test_split\n",
    "train_X,valid_X,train_label,valid_label = train_test_split(train_X, train_Y_onehot, test_size=0.2, random_state=13)"
   ]
  },
  {
   "cell_type": "code",
   "execution_count": 12,
   "metadata": {},
   "outputs": [
    {
     "name": "stdout",
     "output_type": "stream",
     "text": [
      "(48000, 28, 28, 1)\n",
      "(48000, 10)\n",
      "(12000, 28, 28, 1)\n",
      "(12000, 10)\n"
     ]
    }
   ],
   "source": [
    "print(train_X.shape)\n",
    "print(train_label.shape)\n",
    "print(valid_X.shape)\n",
    "print(valid_label.shape)"
   ]
  },
  {
   "cell_type": "code",
   "execution_count": 13,
   "metadata": {},
   "outputs": [],
   "source": [
    "import keras"
   ]
  },
  {
   "cell_type": "code",
   "execution_count": 14,
   "metadata": {},
   "outputs": [],
   "source": [
    "from keras.models import Sequential,Input,Model\n",
    "from keras.layers import Dense,Dropout,Flatten\n",
    "from keras.layers import Conv2D,MaxPooling2D\n",
    "from keras.layers.normalization import BatchNormalization\n",
    "from keras.layers.advanced_activations import LeakyReLU"
   ]
  },
  {
   "cell_type": "code",
   "execution_count": 15,
   "metadata": {},
   "outputs": [],
   "source": [
    "batch_size = 64\n",
    "epochs = 20\n",
    "no_of_classes = 10"
   ]
  },
  {
   "cell_type": "code",
   "execution_count": 16,
   "metadata": {},
   "outputs": [],
   "source": [
    "myModel = Sequential()\n",
    "myModel.add(Conv2D(32,kernel_size=(3,3),activation = 'linear',input_shape=(28,28,1),padding='same'))\n",
    "myModel.add(LeakyReLU(alpha=0.1))\n",
    "myModel.add(MaxPooling2D((2, 2),padding='same'))\n",
    "myModel.add(Conv2D(64, (3, 3), activation='linear',padding='same'))\n",
    "myModel.add(LeakyReLU(alpha=0.1))\n",
    "myModel.add(MaxPooling2D(pool_size=(2, 2),padding='same'))\n",
    "myModel.add(Conv2D(128, (3, 3), activation='linear',padding='same'))\n",
    "myModel.add(LeakyReLU(alpha=0.1))                  \n",
    "myModel.add(MaxPooling2D(pool_size=(2, 2),padding='same'))\n",
    "myModel.add(Flatten())\n",
    "myModel.add(Dense(128, activation='linear'))\n",
    "myModel.add(LeakyReLU(alpha=0.1))                  \n",
    "myModel.add(Dense(no_of_classes, activation='softmax'))"
   ]
  },
  {
   "cell_type": "code",
   "execution_count": 18,
   "metadata": {},
   "outputs": [],
   "source": [
    "myModel.compile(loss=keras.losses.categorical_crossentropy, optimizer=keras.optimizers.Adam(),metrics=['accuracy'])"
   ]
  },
  {
   "cell_type": "code",
   "execution_count": 23,
   "metadata": {},
   "outputs": [
    {
     "name": "stdout",
     "output_type": "stream",
     "text": [
      "_________________________________________________________________\n",
      "Layer (type)                 Output Shape              Param #   \n",
      "=================================================================\n",
      "conv2d_1 (Conv2D)            (None, 28, 28, 32)        320       \n",
      "_________________________________________________________________\n",
      "leaky_re_lu_1 (LeakyReLU)    (None, 28, 28, 32)        0         \n",
      "_________________________________________________________________\n",
      "max_pooling2d_1 (MaxPooling2 (None, 14, 14, 32)        0         \n",
      "_________________________________________________________________\n",
      "conv2d_2 (Conv2D)            (None, 14, 14, 64)        18496     \n",
      "_________________________________________________________________\n",
      "leaky_re_lu_2 (LeakyReLU)    (None, 14, 14, 64)        0         \n",
      "_________________________________________________________________\n",
      "max_pooling2d_2 (MaxPooling2 (None, 7, 7, 64)          0         \n",
      "_________________________________________________________________\n",
      "conv2d_3 (Conv2D)            (None, 7, 7, 128)         73856     \n",
      "_________________________________________________________________\n",
      "leaky_re_lu_3 (LeakyReLU)    (None, 7, 7, 128)         0         \n",
      "_________________________________________________________________\n",
      "max_pooling2d_3 (MaxPooling2 (None, 4, 4, 128)         0         \n",
      "_________________________________________________________________\n",
      "flatten_1 (Flatten)          (None, 2048)              0         \n",
      "_________________________________________________________________\n",
      "dense_1 (Dense)              (None, 128)               262272    \n",
      "_________________________________________________________________\n",
      "leaky_re_lu_4 (LeakyReLU)    (None, 128)               0         \n",
      "_________________________________________________________________\n",
      "dense_2 (Dense)              (None, 10)                1290      \n",
      "=================================================================\n",
      "Total params: 356,234\n",
      "Trainable params: 356,234\n",
      "Non-trainable params: 0\n",
      "_________________________________________________________________\n"
     ]
    }
   ],
   "source": [
    "myModel.summary()"
   ]
  },
  {
   "cell_type": "code",
   "execution_count": 25,
   "metadata": {},
   "outputs": [
    {
     "name": "stdout",
     "output_type": "stream",
     "text": [
      "Train on 48000 samples, validate on 12000 samples\n",
      "Epoch 1/20\n",
      "48000/48000 [==============================] - 101s 2ms/step - loss: 0.4555 - acc: 0.8355 - val_loss: 0.3134 - val_acc: 0.8843\n",
      "Epoch 2/20\n",
      "48000/48000 [==============================] - 102s 2ms/step - loss: 0.2818 - acc: 0.8970 - val_loss: 0.2773 - val_acc: 0.8981\n",
      "Epoch 3/20\n",
      "48000/48000 [==============================] - 100s 2ms/step - loss: 0.2363 - acc: 0.9124 - val_loss: 0.2578 - val_acc: 0.9040\n",
      "Epoch 4/20\n",
      "48000/48000 [==============================] - 99s 2ms/step - loss: 0.2057 - acc: 0.9241 - val_loss: 0.2540 - val_acc: 0.9082\n",
      "Epoch 5/20\n",
      "48000/48000 [==============================] - 100s 2ms/step - loss: 0.1798 - acc: 0.9338 - val_loss: 0.2367 - val_acc: 0.9169\n",
      "Epoch 6/20\n",
      "48000/48000 [==============================] - 100s 2ms/step - loss: 0.1591 - acc: 0.9404 - val_loss: 0.2405 - val_acc: 0.9139\n",
      "Epoch 7/20\n",
      "48000/48000 [==============================] - 103s 2ms/step - loss: 0.1363 - acc: 0.9499 - val_loss: 0.2469 - val_acc: 0.9154\n",
      "Epoch 8/20\n",
      "48000/48000 [==============================] - 100s 2ms/step - loss: 0.1223 - acc: 0.9541 - val_loss: 0.2605 - val_acc: 0.9147\n",
      "Epoch 9/20\n",
      "48000/48000 [==============================] - 101s 2ms/step - loss: 0.1012 - acc: 0.9627 - val_loss: 0.2795 - val_acc: 0.9140\n",
      "Epoch 10/20\n",
      "48000/48000 [==============================] - 104s 2ms/step - loss: 0.0841 - acc: 0.9687 - val_loss: 0.2615 - val_acc: 0.9232\n",
      "Epoch 11/20\n",
      "48000/48000 [==============================] - 101s 2ms/step - loss: 0.0758 - acc: 0.9719 - val_loss: 0.2858 - val_acc: 0.9220\n",
      "Epoch 12/20\n",
      "48000/48000 [==============================] - 104s 2ms/step - loss: 0.0635 - acc: 0.9766 - val_loss: 0.3310 - val_acc: 0.9167\n",
      "Epoch 13/20\n",
      "48000/48000 [==============================] - 101s 2ms/step - loss: 0.0563 - acc: 0.9787 - val_loss: 0.3588 - val_acc: 0.9163\n",
      "Epoch 14/20\n",
      "48000/48000 [==============================] - 100s 2ms/step - loss: 0.0482 - acc: 0.9820 - val_loss: 0.3718 - val_acc: 0.9155\n",
      "Epoch 15/20\n",
      "48000/48000 [==============================] - 104s 2ms/step - loss: 0.0420 - acc: 0.9842 - val_loss: 0.3399 - val_acc: 0.9210\n",
      "Epoch 16/20\n",
      "48000/48000 [==============================] - 101s 2ms/step - loss: 0.0358 - acc: 0.9865 - val_loss: 0.3544 - val_acc: 0.9255\n",
      "Epoch 17/20\n",
      "48000/48000 [==============================] - 105s 2ms/step - loss: 0.0411 - acc: 0.9849 - val_loss: 0.3928 - val_acc: 0.9210\n",
      "Epoch 18/20\n",
      "48000/48000 [==============================] - 118s 2ms/step - loss: 0.0349 - acc: 0.9872 - val_loss: 0.4104 - val_acc: 0.9241\n",
      "Epoch 19/20\n",
      "48000/48000 [==============================] - 125s 3ms/step - loss: 0.0299 - acc: 0.9890 - val_loss: 0.3967 - val_acc: 0.9196\n",
      "Epoch 20/20\n",
      "48000/48000 [==============================] - 99s 2ms/step - loss: 0.0297 - acc: 0.9894 - val_loss: 0.4738 - val_acc: 0.9176\n"
     ]
    }
   ],
   "source": [
    "fashion_train = myModel.fit(train_X, train_label, batch_size=batch_size,epochs=epochs,verbose=1,validation_data=(valid_X, valid_label))"
   ]
  },
  {
   "cell_type": "code",
   "execution_count": 28,
   "metadata": {},
   "outputs": [],
   "source": [
    "test_eval = myModel.evaluate(test_X, test_Y_onehot, verbose=0)"
   ]
  },
  {
   "cell_type": "code",
   "execution_count": 29,
   "metadata": {},
   "outputs": [
    {
     "name": "stdout",
     "output_type": "stream",
     "text": [
      "Test loss: 0.4804817040104419\n",
      "Test accuracy: 0.9153\n"
     ]
    }
   ],
   "source": [
    "print('Test loss:', test_eval[0])\n",
    "print('Test accuracy:', test_eval[1])\n"
   ]
  },
  {
   "cell_type": "code",
   "execution_count": 30,
   "metadata": {},
   "outputs": [
    {
     "data": {
      "image/png": "[encoded data removed]",
      "text/plain": [
       "<Figure size 432x288 with 1 Axes>"
      ]
     },
     "metadata": {
      "needs_background": "light"
     },
     "output_type": "display_data"
    },
    {
     "data": {
      "image/png": "[encoded data removed]",
      "text/plain": [
       "<Figure size 432x288 with 1 Axes>"
      ]
     },
     "metadata": {
      "needs_background": "light"
     },
     "output_type": "display_data"
    }
   ],
   "source": [
    "accuracy = fashion_train.history['acc']\n",
    "val_accuracy = fashion_train.history['val_acc']\n",
    "loss = fashion_train.history['loss']\n",
    "val_loss = fashion_train.history['val_loss']\n",
    "epochs = range(len(accuracy))\n",
    "plt.plot(epochs, accuracy, 'bo', label='Training accuracy')\n",
    "plt.plot(epochs, val_accuracy, 'b', label='Validation accuracy')\n",
    "plt.title('Training and validation accuracy')\n",
    "plt.legend()\n",
    "plt.figure()\n",
    "plt.plot(epochs, loss, 'bo', label='Training loss')\n",
    "plt.plot(epochs, val_loss, 'b', label='Validation loss')\n",
    "plt.title('Training and validation loss')\n",
    "plt.legend()\n",
    "plt.show()"
   ]
  },
  {
   "cell_type": "code",
   "execution_count": null,
   "metadata": {},
   "outputs": [],
   "source": []
  }
 ],
 "metadata": {
  "kernelspec": {
   "display_name": "Python 3",
   "language": "python",
   "name": "python3"
  },
  "language_info": {
   "codemirror_mode": {
    "name": "ipython",
    "version": 3
   },
   "file_extension": ".py",
   "mimetype": "text/x-python",
   "name": "python",
   "nbconvert_exporter": "python",
   "pygments_lexer": "ipython3",
   "version": "3.6.6"
  }
 },
 "nbformat": 4,
 "nbformat_minor": 2
}
